{
  "nbformat": 4,
  "nbformat_minor": 0,
  "metadata": {
    "colab": {
      "provenance": [],
      "authorship_tag": "ABX9TyPIfCsJph3rwr7d6iob8xad",
      "include_colab_link": true
    },
    "kernelspec": {
      "name": "python3",
      "display_name": "Python 3"
    },
    "language_info": {
      "name": "python"
    }
  },
  "cells": [
    {
      "cell_type": "markdown",
      "metadata": {
        "id": "view-in-github",
        "colab_type": "text"
      },
      "source": [
        "<a href=\"https://colab.research.google.com/github/herlocksholmes1888/buscar-ultimas-interacoes-bluesky/blob/main/retornar_postagens_em_feed_bluesky.ipynb\" target=\"_parent\"><img src=\"https://colab.research.google.com/assets/colab-badge.svg\" alt=\"Open In Colab\"/></a>"
      ]
    },
    {
      "cell_type": "code",
      "execution_count": 1,
      "metadata": {
        "colab": {
          "base_uri": "https://localhost:8080/"
        },
        "id": "PB2iw_EpYJ1h",
        "outputId": "b833e3b7-b082-4631-d860-29729ad04b30"
      },
      "outputs": [
        {
          "output_type": "stream",
          "name": "stdout",
          "text": [
            "{'uri': 'at://did:plc:36veuqyukbkood4pf6xghqis/app.bsky.feed.post/3l5mua6dsis23', 'cid': 'bafyreicnpjodwzholg27jkx6ofvpmdnibvtyq2jrmjcia2wlyqcn2djfwm', 'value': {'text': 'O melhor é que eu tenho certeza que é o mesmo cara que dublou o Jacob Black KKKKKKKKKKKKKKKK', '$type': 'app.bsky.feed.post', 'langs': ['pt'], 'reply': {'root': {'cid': 'bafyreiavcqablwfocn6aoioicsxoc74xzvscbvixyxupguwulhj2twmkia', 'uri': 'at://did:plc:pymryqfle7zklr63wwujmsmn/app.bsky.feed.post/3l5flezovx426'}, 'parent': {'cid': 'bafyreiavcqablwfocn6aoioicsxoc74xzvscbvixyxupguwulhj2twmkia', 'uri': 'at://did:plc:pymryqfle7zklr63wwujmsmn/app.bsky.feed.post/3l5flezovx426'}}, 'createdAt': '2024-10-03T18:16:05.537Z'}}\n",
            "{'uri': 'at://did:plc:36veuqyukbkood4pf6xghqis/app.bsky.feed.post/3l5mu3rvbck2f', 'cid': 'bafyreihwaahyzqnth4a4lrf6fqqnf4k7x4ax6bur77mvu2ix4efnn4ulge', 'value': {'text': 'Se você vir esse tweet, você é obrigado a postar seus 4 personagens favoritos', '$type': 'app.bsky.feed.post', 'embed': {'$type': 'app.bsky.embed.recordWithMedia', 'media': {'$type': 'app.bsky.embed.images', 'images': [{'alt': 'Sherlock Holmes', 'image': {'$type': 'blob', 'ref': {'$link': 'bafkreib7ksqsucs356fw3lvambn3fgkmjcnx5jqxpyw4zp2luxmojxk2vm'}, 'mimeType': 'image/jpeg', 'size': 522250}, 'aspectRatio': {'width': 1054, 'height': 1200}}, {'alt': 'Blaze The Cat', 'image': {'$type': 'blob', 'ref': {'$link': 'bafkreigbx6sogm76wtx7xtxhhnzuczjudsapr4mtiijemqdqslwjkvb5ni'}, 'mimeType': 'image/jpeg', 'size': 84634}, 'aspectRatio': {'width': 188, 'height': 300}}, {'alt': 'Lupin Terceiro', 'image': {'$type': 'blob', 'ref': {'$link': 'bafkreigvwcve7irztljnq55zhpwf5pwfr76xztdi3yxzvovkwceuuu5m5i'}, 'mimeType': 'image/jpeg', 'size': 58932}, 'aspectRatio': {'width': 246, 'height': 219}}, {'alt': 'Estrela Azul', 'image': {'$type': 'blob', 'ref': {'$link': 'bafkreifdae6453q2pksp45yk75dhsyb4xv36clmplo5qsdpfld7vrnooda'}, 'mimeType': 'image/jpeg', 'size': 393570}, 'aspectRatio': {'width': 1024, 'height': 768}}]}, 'record': {'$type': 'app.bsky.embed.record', 'record': {'cid': 'bafyreidh6qeqpgohpkf4pqwlmud7fl6g6jkp6ypogmyurqwrrxky2dfty4', 'uri': 'at://did:plc:ymd3zqu47qm5rr2bd7j4hkk2/app.bsky.feed.post/3l33pyg3k3j2i'}}}, 'langs': ['pt'], 'createdAt': '2024-10-03T18:13:38.264Z'}}\n",
            "{'uri': 'at://did:plc:36veuqyukbkood4pf6xghqis/app.bsky.feed.post/3l5mrwczp3q2n', 'cid': 'bafyreieikm6nbuls6rrf76e7536inunpisrakjip3uzf7fkmcpsdli6xhm', 'value': {'text': 'A Odisseia \\U0001fae1', '$type': 'app.bsky.feed.post', 'langs': ['pt'], 'reply': {'root': {'cid': 'bafyreif7ly6ib7oncjy5snu6yaygm2frabdzyrc5en7eqt2utqpjtzqajy', 'uri': 'at://did:plc:ats5v4ofzz5t3ksxcveiothk/app.bsky.feed.post/3l5fmdiss6k2z'}, 'parent': {'cid': 'bafyreif7ly6ib7oncjy5snu6yaygm2frabdzyrc5en7eqt2utqpjtzqajy', 'uri': 'at://did:plc:ats5v4ofzz5t3ksxcveiothk/app.bsky.feed.post/3l5fmdiss6k2z'}}, 'createdAt': '2024-10-03T17:34:47.405Z'}}\n",
            "{'uri': 'at://did:plc:36veuqyukbkood4pf6xghqis/app.bsky.feed.post/3l4yycphh2z2r', 'cid': 'bafyreida7mukkgpqfl7ceeplafhb24rup3cw2k76z23xshfbyhqcj4cqge', 'value': {'text': 'Diz o nome do amigo pra gente colocar no grupo de oração antes que ele comece a mexer com Spring Boot, temos que salvar uma vida', '$type': 'app.bsky.feed.post', 'langs': ['pt'], 'reply': {'root': {'cid': 'bafyreiczfgvnd55yrsvpszibzt3jxrpu2jjbyh5qtlg5f2stikvw4zzmtq', 'uri': 'at://did:plc:4jk44rg7eqqufoyg2iyhwstx/app.bsky.feed.post/3l4w5ksvujb2k'}, 'parent': {'cid': 'bafyreiczfgvnd55yrsvpszibzt3jxrpu2jjbyh5qtlg5f2stikvw4zzmtq', 'uri': 'at://did:plc:4jk44rg7eqqufoyg2iyhwstx/app.bsky.feed.post/3l4w5ksvujb2k'}}, 'createdAt': '2024-09-25T20:35:50.625Z'}}\n",
            "{'uri': 'at://did:plc:36veuqyukbkood4pf6xghqis/app.bsky.feed.post/3l4jslqn2d32y', 'cid': 'bafyreiafjrrqk46xglyy7avqs7dqph2mo3x44cpsxg5knj6db46gmy65uu', 'value': {'text': 'Eu não aguento mais não conseguir criar um dataset bom, que ódio', '$type': 'app.bsky.feed.post', 'langs': ['en'], 'createdAt': '2024-09-19T19:43:35.448760+00:00'}}\n",
            "{'uri': 'at://did:plc:36veuqyukbkood4pf6xghqis/app.bsky.feed.post/3l4jjpy3bpz2v', 'cid': 'bafyreie3wotei32w2l7esfajpvjyvnjsgr3ji64wekgkmqucvy6urgecye', 'value': {'text': 'Oh this looks lovely!!', '$type': 'app.bsky.feed.post', 'langs': ['en'], 'reply': {'root': {'cid': 'bafyreiaizzjryzt5kfpxjn7ryftc2n5s5mkl7vh52k54ze6gnha4vldivq', 'uri': 'at://did:plc:hl63cemaxsdnanp5bs2yjblp/app.bsky.feed.post/3l4h6tq3uiy22'}, 'parent': {'cid': 'bafyreiaizzjryzt5kfpxjn7ryftc2n5s5mkl7vh52k54ze6gnha4vldivq', 'uri': 'at://did:plc:hl63cemaxsdnanp5bs2yjblp/app.bsky.feed.post/3l4h6tq3uiy22'}}, 'createdAt': '2024-09-19T17:04:53.828Z'}}\n",
            "{'uri': 'at://did:plc:36veuqyukbkood4pf6xghqis/app.bsky.feed.post/3l4hpjm4azn2m', 'cid': 'bafyreihdlf4t7adrwytcbdl2rb2nxip5qdqio76czmepokyo6acnvr7dji', 'value': {'text': 'FUNCIONOU WEE', '$type': 'app.bsky.feed.post', 'embed': {'$type': 'app.bsky.embed.images', 'images': [{'alt': '', 'image': {'$type': 'blob', 'ref': {'$link': 'bafkreig6bym6c224gnxlofksnn27m7pbf6yuofwfmgvw6vd2djlt57lzau'}, 'mimeType': 'image/jpeg', 'size': 594915}, 'aspectRatio': {'width': 1366, 'height': 768}}]}, 'langs': ['pt'], 'reply': {'root': {'cid': 'bafyreifdmucdkdifgbzhyxadbwvxe3lr24akdrqvd2focutzxqyjcaxwiy', 'uri': 'at://did:plc:36veuqyukbkood4pf6xghqis/app.bsky.feed.post/3l4hp4nacgn2y'}, 'parent': {'cid': 'bafyreifdmucdkdifgbzhyxadbwvxe3lr24akdrqvd2focutzxqyjcaxwiy', 'uri': 'at://did:plc:36veuqyukbkood4pf6xghqis/app.bsky.feed.post/3l4hp4nacgn2y'}}, 'createdAt': '2024-09-18T23:42:06.918Z'}}\n",
            "{'uri': 'at://did:plc:36veuqyukbkood4pf6xghqis/app.bsky.feed.post/3l4hp4nacgn2y', 'cid': 'bafyreifdmucdkdifgbzhyxadbwvxe3lr24akdrqvd2focutzxqyjcaxwiy', 'value': {'text': 'Tô testando se meu código Python se comunica com a minha conta no Bluesky. Queria ter algo mais interessante que isso pra dizer lol', '$type': 'app.bsky.feed.post', 'langs': ['en'], 'createdAt': '2024-09-18T23:36:07.750781+00:00'}}\n",
            "{'uri': 'at://did:plc:36veuqyukbkood4pf6xghqis/app.bsky.feed.post/3l4hhwsnzom2v', 'cid': 'bafyreifbgcekpxd6n25wt2w56kpidbdgwveotwa4e3p77qkkseitqqerfy', 'value': {'text': 'La communauté brésilienne de Bluesky a grandi après le début des conflicts avec X et Elon Musk, je ne doute pas qu’elle va rester active pendant un moment', '$type': 'app.bsky.feed.post', 'langs': ['pt'], 'reply': {'root': {'cid': 'bafyreigfjpqqnyxsczsw7nm7gb6qyf6qsjqjvx5nkkz5aw2yjcrxoxrhri', 'uri': 'at://did:plc:qqxqxgdu5z3he2piqfbfaku4/app.bsky.feed.post/3l4hea3vihe2r'}, 'parent': {'cid': 'bafyreigfjpqqnyxsczsw7nm7gb6qyf6qsjqjvx5nkkz5aw2yjcrxoxrhri', 'uri': 'at://did:plc:qqxqxgdu5z3he2piqfbfaku4/app.bsky.feed.post/3l4hea3vihe2r'}}, 'createdAt': '2024-09-18T21:27:36.030Z'}}\n"
          ]
        }
      ],
      "source": [
        "from google.colab import userdata\n",
        "import requests\n",
        "\n",
        "access_token = userdata.get('BLUESKY_APP_PASSWORD')\n",
        "\n",
        "headers = {\n",
        "  'Authorization': f'Bearer {access_token}'\n",
        "}\n",
        "\n",
        "params = {\n",
        "  'repo': 'herlocksholmes1888.bsky.social',\n",
        "  'collection': 'app.bsky.feed.post',\n",
        "  'limit': 10\n",
        "}\n",
        "\n",
        "response = requests.get('https://bsky.social/xrpc/com.atproto.repo.listRecords', headers=headers, params=params)\n",
        "\n",
        "if response.status_code == 200:\n",
        "  posts = response.json()\n",
        "  for post in posts['records']:\n",
        "    print(post)\n",
        "else:\n",
        "  print(f'Erro: {response.status_code}')"
      ]
    }
  ]
}